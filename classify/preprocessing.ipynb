{
 "cells": [
  {
   "cell_type": "code",
   "execution_count": 91,
   "metadata": {},
   "outputs": [],
   "source": [
    "from collections import Counter\n",
    "from numpy import vstack\n",
    "import os\n",
    "from six.moves import cPickle as pickle\n",
    "import tarfile\n",
    "from tensorflow.examples.tutorials.mnist import input_data"
   ]
  },
  {
   "cell_type": "code",
   "execution_count": 45,
   "metadata": {
    "collapsed": true
   },
   "outputs": [],
   "source": [
    "mnist_path = '../data/MNIST'\n",
    "notmnist_path = '../data/notMNIST'\n",
    "large_name = 'notMNIST_large'\n",
    "small_name = 'notMNIST_small'"
   ]
  },
  {
   "cell_type": "code",
   "execution_count": 40,
   "metadata": {},
   "outputs": [
    {
     "name": "stdout",
     "output_type": "stream",
     "text": [
      "Extracting ../data/MNIST/train-images-idx3-ubyte.gz\n",
      "Extracting ../data/MNIST/train-labels-idx1-ubyte.gz\n",
      "Extracting ../data/MNIST/t10k-images-idx3-ubyte.gz\n",
      "Extracting ../data/MNIST/t10k-labels-idx1-ubyte.gz\n"
     ]
    }
   ],
   "source": [
    "mnist = input_data.read_data_sets(mnist_path, one_hot=True)"
   ]
  },
  {
   "cell_type": "code",
   "execution_count": 109,
   "metadata": {},
   "outputs": [
    {
     "name": "stdout",
     "output_type": "stream",
     "text": [
      "images: 70000 / labels: 70000\n"
     ]
    }
   ],
   "source": [
    "mnist_images = vstack((mnist.train.images, mnist.test.images, mnist.validation.images))\n",
    "mnist_labels = vstack((mnist.train.labels, mnist.test.labels, mnist.validation.labels))\n",
    "print('images:', len(mnist_images), '/ labels:', len(mnist_labels))"
   ]
  },
  {
   "cell_type": "code",
   "execution_count": 50,
   "metadata": {
    "collapsed": true
   },
   "outputs": [],
   "source": [
    "def extract_if_missing(path, name):\n",
    "    zip_path = os.path.join(path, name) + '.tar.gz'\n",
    "    if os.path.exists(zip_path):\n",
    "        dest_path = os.path.join(path, name)\n",
    "        if not os.path.isdir(dest_path):\n",
    "            print('extracting', name)\n",
    "            tar = tarfile.open(zip_path)\n",
    "            tar.extractall(path)\n",
    "            tar.close()\n",
    "            print('done extracting', name)\n",
    "        else:\n",
    "            print('destination already exists')\n",
    "    else:\n",
    "        print('path does not exist')"
   ]
  },
  {
   "cell_type": "code",
   "execution_count": 51,
   "metadata": {},
   "outputs": [
    {
     "name": "stdout",
     "output_type": "stream",
     "text": [
      "extracting notMNIST_large\n",
      "done extracting notMNIST_large\n",
      "extracting notMNIST_small\n",
      "done extracting notMNIST_small\n"
     ]
    }
   ],
   "source": [
    "extract_if_missing(notmnist_path, large_name)\n",
    "extract_if_missing(notmnist_path, small_name)"
   ]
  },
  {
   "cell_type": "code",
   "execution_count": 57,
   "metadata": {},
   "outputs": [
    {
     "name": "stdout",
     "output_type": "stream",
     "text": [
      "['../data/notMNIST/notMNIST_large/A', '../data/notMNIST/notMNIST_large/B', '../data/notMNIST/notMNIST_large/C', '../data/notMNIST/notMNIST_large/D', '../data/notMNIST/notMNIST_large/E', '../data/notMNIST/notMNIST_large/F', '../data/notMNIST/notMNIST_large/G', '../data/notMNIST/notMNIST_large/H', '../data/notMNIST/notMNIST_large/I', '../data/notMNIST/notMNIST_large/J']\n",
      "['../data/notMNIST/notMNIST_small/A', '../data/notMNIST/notMNIST_small/B', '../data/notMNIST/notMNIST_small/C', '../data/notMNIST/notMNIST_small/D', '../data/notMNIST/notMNIST_small/E', '../data/notMNIST/notMNIST_small/F', '../data/notMNIST/notMNIST_small/G', '../data/notMNIST/notMNIST_small/H', '../data/notMNIST/notMNIST_small/I', '../data/notMNIST/notMNIST_small/J']\n"
     ]
    }
   ],
   "source": [
    "large_path = os.path.join(notmnist_path, large_name)\n",
    "large_letters = [os.path.join(large_path, letter) for letter in sorted(os.listdir(large_path))]\n",
    "\n",
    "small_path = os.path.join(notmnist_path, small_name)\n",
    "small_letters = [os.path.join(small_path, letter) for letter in sorted(os.listdir(small_path))]"
   ]
  },
  {
   "cell_type": "code",
   "execution_count": null,
   "metadata": {
    "collapsed": true
   },
   "outputs": [],
   "source": []
  }
 ],
 "metadata": {
  "kernelspec": {
   "display_name": "Python 3",
   "language": "python",
   "name": "python3"
  },
  "language_info": {
   "codemirror_mode": {
    "name": "ipython",
    "version": 3
   },
   "file_extension": ".py",
   "mimetype": "text/x-python",
   "name": "python",
   "nbconvert_exporter": "python",
   "pygments_lexer": "ipython3",
   "version": "3.5.2"
  }
 },
 "nbformat": 4,
 "nbformat_minor": 2
}
